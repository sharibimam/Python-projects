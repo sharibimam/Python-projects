{
 "cells": [
  {
   "cell_type": "markdown",
   "metadata": {},
   "source": [
    "## Fahrenheit to Celsius converter"
   ]
  },
  {
   "cell_type": "code",
   "execution_count": 7,
   "metadata": {},
   "outputs": [
    {
     "name": "stdout",
     "output_type": "stream",
     "text": [
      "Enter Temperature in Fahrenheit: \n",
      "100\n",
      "\n",
      "Equivalent Temperature in Celsius:  37.77777777777778\n"
     ]
    }
   ],
   "source": [
    "print(\"Enter Temperature in Fahrenheit: \")\n",
    "fh = float(input())\n",
    "\n",
    "cl = (fh-32)/1.8\n",
    "print(\"\\nEquivalent Temperature in Celsius: \", cl)"
   ]
  },
  {
   "cell_type": "markdown",
   "metadata": {},
   "source": [
    "## Celsius to Fahrenheit converter"
   ]
  },
  {
   "cell_type": "code",
   "execution_count": 8,
   "metadata": {},
   "outputs": [
    {
     "name": "stdout",
     "output_type": "stream",
     "text": [
      "Enter Temperature in Celsius: \n",
      "37\n",
      "\n",
      "Equivalent Temperature in Celsius:  98.60000000000001\n"
     ]
    }
   ],
   "source": [
    "print(\"Enter Temperature in Celsius: \")\n",
    "cl = float(input())\n",
    "\n",
    "fh = (cl * 1.8) + 32\n",
    "print(\"\\nEquivalent Temperature in Celsius: \", fh)"
   ]
  },
  {
   "cell_type": "code",
   "execution_count": null,
   "metadata": {},
   "outputs": [],
   "source": []
  }
 ],
 "metadata": {
  "kernelspec": {
   "display_name": "Python 3",
   "language": "python",
   "name": "python3"
  },
  "language_info": {
   "codemirror_mode": {
    "name": "ipython",
    "version": 3
   },
   "file_extension": ".py",
   "mimetype": "text/x-python",
   "name": "python",
   "nbconvert_exporter": "python",
   "pygments_lexer": "ipython3",
   "version": "3.7.4"
  }
 },
 "nbformat": 4,
 "nbformat_minor": 2
}
