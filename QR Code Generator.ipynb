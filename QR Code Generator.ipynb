{
 "cells": [
  {
   "cell_type": "code",
   "execution_count": 6,
   "metadata": {},
   "outputs": [
    {
     "name": "stdout",
     "output_type": "stream",
     "text": [
      "QR Code Generated\n"
     ]
    }
   ],
   "source": [
    "import pyqrcode \n",
    "from pyqrcode import QRCode \n",
    "  \n",
    "# String which represent the QR code \n",
    "s = \"https://www.youtube.com/user/SeeratVideo\"\n",
    "  \n",
    "# Generate QR code \n",
    "url = pyqrcode.create(s) \n",
    "  \n",
    "# Create and save the png file naming \"youtube1.svg\"\n",
    "url.svg(\"youtube1.svg\", scale = 8) \n",
    "print('QR Code Generated')"
   ]
  },
  {
   "cell_type": "code",
   "execution_count": null,
   "metadata": {},
   "outputs": [],
   "source": []
  }
 ],
 "metadata": {
  "kernelspec": {
   "display_name": "Python 3",
   "language": "python",
   "name": "python3"
  },
  "language_info": {
   "codemirror_mode": {
    "name": "ipython",
    "version": 3
   },
   "file_extension": ".py",
   "mimetype": "text/x-python",
   "name": "python",
   "nbconvert_exporter": "python",
   "pygments_lexer": "ipython3",
   "version": "3.7.4"
  }
 },
 "nbformat": 4,
 "nbformat_minor": 2
}
