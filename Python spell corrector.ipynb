{
 "cells": [
  {
   "cell_type": "code",
   "execution_count": 8,
   "metadata": {},
   "outputs": [],
   "source": [
    "from tkinter import *\n",
    "from textblob import TextBlob"
   ]
  },
  {
   "cell_type": "code",
   "execution_count": 9,
   "metadata": {},
   "outputs": [],
   "source": [
    "# Function to get a corrected word\n",
    "def correction() :\n",
    "    input_word = word1_field.get()\n",
    "    blob_obj = TextBlob(input_word)\n",
    "    corrected_word = str(blob_obj.correct())\n",
    "    word2_field.insert(10, corrected_word)\n"
   ]
  },
  {
   "cell_type": "code",
   "execution_count": 10,
   "metadata": {},
   "outputs": [],
   "source": [
    "def clearAll() :\n",
    "\n",
    "    # whole content of text entry area is deleted\n",
    "    word1_field.delete(0, END)\n",
    "    word2_field.delete(0, END)"
   ]
  },
  {
   "cell_type": "code",
   "execution_count": 11,
   "metadata": {},
   "outputs": [],
   "source": [
    "if __name__ == \"__main__\" :\n",
    "\n",
    "# Create a GUI window\n",
    "    root = Tk()\n",
    "\n",
    "    # Set the background colour of GUI window\n",
    "    root.configure(background = 'light green')\n",
    "    \n",
    "    # Set the configuration of GUI window (WidthxHeight)\n",
    "    root.geometry(\"500x200\")\n",
    "\n",
    "    # set the name of tkinter GUI window\n",
    "    root.title(\"Spell Corrector\")\n",
    "    \n",
    "    # Create Welcome to Spell Corrector Application: label\n",
    "    headlabel = Label(root, text = 'Welcome to Spell Corrector Application',\n",
    "                    fg = 'black', bg = \"red\")\n",
    "    \n",
    "    # Create a \"Input Word\": label\n",
    "    label1 = Label(root, text = \"Input Word\",\n",
    "                fg = 'black', bg = 'sky blue')\n",
    "        \n",
    "    # Create a \"Corrected Word\": label\n",
    "    label2 = Label(root, text = \"Corrected Word\",\n",
    "                fg = 'black', bg = 'sky blue')\n",
    "\n",
    "    \n",
    "    # grid method is used for placing\n",
    "    # the widgets at respective positions\n",
    "    # in table like structure .\n",
    "    # padx keyword argument used to set paading along x-axis .\n",
    "    headlabel.grid(row = 0, column = 1)\n",
    "    label1.grid(row = 1, column = 0)\n",
    "    label2.grid(row = 3, column = 0, padx = 10)\n",
    "\n",
    "        \n",
    "    # Create a text entry box\n",
    "    # for filling or typing the information.\n",
    "    word1_field = Entry()\n",
    "    word2_field = Entry()\n",
    "    \n",
    "    # padx keyword argument used to set paading along x-axis .\n",
    "    # pady keyword argument used to set paading along y-axis .\n",
    "    word1_field.grid(row = 1, column = 1, padx = 10, pady = 10)\n",
    "    word2_field.grid(row = 3, column = 1, padx = 10, pady = 10)\n",
    "\n",
    "        \n",
    "    # Create a Correction Button and attached\n",
    "    # with correction function\n",
    "    button1 = Button(root, text = \"Correction\", bg = \"red\", fg = \"black\",\n",
    "                                command = correction)\n",
    "    \n",
    "    button1.grid(row = 2, column = 1)\n",
    "    \n",
    "    # Create a Clear Button and attached\n",
    "    # with clearAll function\n",
    "    button2 = Button(root, text = \"Clear\", bg = \"red\",\n",
    "                    fg = \"black\", command = clearAll)\n",
    "\n",
    "    button2.grid(row = 4, column = 1)\n",
    "\n",
    "    # Start the GUI\n",
    "    root.mainloop()\n"
   ]
  },
  {
   "cell_type": "code",
   "execution_count": null,
   "metadata": {},
   "outputs": [],
   "source": []
  }
 ],
 "metadata": {
  "kernelspec": {
   "display_name": "Python 3",
   "language": "python",
   "name": "python3"
  },
  "language_info": {
   "codemirror_mode": {
    "name": "ipython",
    "version": 3
   },
   "file_extension": ".py",
   "mimetype": "text/x-python",
   "name": "python",
   "nbconvert_exporter": "python",
   "pygments_lexer": "ipython3",
   "version": "3.7.4"
  }
 },
 "nbformat": 4,
 "nbformat_minor": 2
}
