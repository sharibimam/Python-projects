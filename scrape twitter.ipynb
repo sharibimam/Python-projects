{
 "cells": [
  {
   "cell_type": "code",
   "execution_count": 1,
   "metadata": {},
   "outputs": [],
   "source": [
    "# pip install python-twitter"
   ]
  },
  {
   "cell_type": "code",
   "execution_count": 2,
   "metadata": {},
   "outputs": [],
   "source": [
    "import twitter"
   ]
  },
  {
   "cell_type": "code",
   "execution_count": 3,
   "metadata": {},
   "outputs": [],
   "source": [
    "## your access token/secret/key..etc.\n",
    "ACCESS_TOKEN = '12013***********3-************************'       \n",
    "ACCESS_SECRET = 'P********Fxtd********************************'         \n",
    "CONSUMER_KEY = 'DJfQg******************'\n",
    "CONSUMER_SECRET = 'x2PUe5E*******************************'\n",
    "\n",
    "t = twitter.Api(consumer_key=CONSUMER_KEY,\n",
    "                consumer_secret=CONSUMER_SECRET,\n",
    "                access_token_key=ACCESS_TOKEN,\n",
    "                access_token_secret=ACCESS_SECRET)"
   ]
  },
  {
   "cell_type": "code",
   "execution_count": 15,
   "metadata": {},
   "outputs": [],
   "source": [
    "import tweepy as tw\n",
    "import csv\n",
    "import pandas as pd"
   ]
  },
  {
   "cell_type": "code",
   "execution_count": 17,
   "metadata": {},
   "outputs": [],
   "source": [
    "auth = tw.OAuthHandler(consumer_key, consumer_secret)\n",
    "auth.set_access_token(access_token, access_token_secret)\n",
    "api = tw.API(auth,wait_on_rate_limit=True)"
   ]
  },
  {
   "cell_type": "code",
   "execution_count": 18,
   "metadata": {},
   "outputs": [],
   "source": [
    "search_words = '#IPL2021'\n",
    "date_since = \"2020-12-12\""
   ]
  },
  {
   "cell_type": "code",
   "execution_count": 19,
   "metadata": {},
   "outputs": [],
   "source": [
    "tweets = tw.Cursor(api.search, q= search_words, lang=\"en\", since=date_since).items(10)"
   ]
  },
  {
   "cell_type": "code",
   "execution_count": 20,
   "metadata": {},
   "outputs": [
    {
     "data": {
      "text/plain": [
       "<tweepy.cursor.ItemIterator at 0x7f74340d3890>"
      ]
     },
     "execution_count": 20,
     "metadata": {},
     "output_type": "execute_result"
    }
   ],
   "source": [
    "tweets"
   ]
  },
  {
   "cell_type": "code",
   "execution_count": 21,
   "metadata": {},
   "outputs": [],
   "source": [
    "tweet_details = [[tweet.geo, tweet.text, tweet.user.screen_name, tweet.user.location] for tweet in tweets]"
   ]
  },
  {
   "cell_type": "code",
   "execution_count": 22,
   "metadata": {},
   "outputs": [],
   "source": [
    "tweet_df = pd.DataFrame(data=tweet_details, columns=['geo','text','user','location'])"
   ]
  },
  {
   "cell_type": "code",
   "execution_count": 23,
   "metadata": {},
   "outputs": [
    {
     "data": {
      "text/html": [
       "<div>\n",
       "<style scoped>\n",
       "    .dataframe tbody tr th:only-of-type {\n",
       "        vertical-align: middle;\n",
       "    }\n",
       "\n",
       "    .dataframe tbody tr th {\n",
       "        vertical-align: top;\n",
       "    }\n",
       "\n",
       "    .dataframe thead th {\n",
       "        text-align: right;\n",
       "    }\n",
       "</style>\n",
       "<table border=\"1\" class=\"dataframe\">\n",
       "  <thead>\n",
       "    <tr style=\"text-align: right;\">\n",
       "      <th></th>\n",
       "      <th>geo</th>\n",
       "      <th>text</th>\n",
       "      <th>user</th>\n",
       "      <th>location</th>\n",
       "    </tr>\n",
       "  </thead>\n",
       "  <tbody>\n",
       "    <tr>\n",
       "      <td>0</td>\n",
       "      <td>None</td>\n",
       "      <td>England have Declared their 12 Man Squad for Second Test in Chennai Starting Tomorrow!\\n\\nIN: Broad, Moeen Ali, Foake… https://t.co/56d49b2rqr</td>\n",
       "      <td>SportzrideCric</td>\n",
       "      <td>Mumbai, India</td>\n",
       "    </tr>\n",
       "    <tr>\n",
       "      <td>1</td>\n",
       "      <td>None</td>\n",
       "      <td>Feel sad for @sreesanth36 I think he deserve one chance.. He should be in a list at least... It was confirm nobody… https://t.co/Su0QTp7TNC</td>\n",
       "      <td>Saurabh53818837</td>\n",
       "      <td></td>\n",
       "    </tr>\n",
       "    <tr>\n",
       "      <td>2</td>\n",
       "      <td>None</td>\n",
       "      <td>RT @ChloeAmandaB: Potential Australian T20 debutant Josh Philippe today speaking about what he learned from 'superstars' AB de Villiers and…</td>\n",
       "      <td>GBAbhishek18</td>\n",
       "      <td>Thiruvananthapuram,India</td>\n",
       "    </tr>\n",
       "    <tr>\n",
       "      <td>3</td>\n",
       "      <td>None</td>\n",
       "      <td>IPL News 🚨 🚨\\n\\n#IPLAuction2021 #IPL2021 #ArjunTendulkar https://t.co/yDFgfUYXEN</td>\n",
       "      <td>CricketMorning</td>\n",
       "      <td>India</td>\n",
       "    </tr>\n",
       "    <tr>\n",
       "      <td>4</td>\n",
       "      <td>None</td>\n",
       "      <td>RT @ChloeAmandaB: Potential Australian T20 debutant Josh Philippe today speaking about what he learned from 'superstars' AB de Villiers and…</td>\n",
       "      <td>karthikdonz10</td>\n",
       "      <td></td>\n",
       "    </tr>\n",
       "  </tbody>\n",
       "</table>\n",
       "</div>"
      ],
      "text/plain": [
       "    geo  \\\n",
       "0  None   \n",
       "1  None   \n",
       "2  None   \n",
       "3  None   \n",
       "4  None   \n",
       "\n",
       "                                                                                                                                             text  \\\n",
       "0  England have Declared their 12 Man Squad for Second Test in Chennai Starting Tomorrow!\\n\\nIN: Broad, Moeen Ali, Foake… https://t.co/56d49b2rqr   \n",
       "1     Feel sad for @sreesanth36 I think he deserve one chance.. He should be in a list at least... It was confirm nobody… https://t.co/Su0QTp7TNC   \n",
       "2    RT @ChloeAmandaB: Potential Australian T20 debutant Josh Philippe today speaking about what he learned from 'superstars' AB de Villiers and…   \n",
       "3                                                                IPL News 🚨 🚨\\n\\n#IPLAuction2021 #IPL2021 #ArjunTendulkar https://t.co/yDFgfUYXEN   \n",
       "4    RT @ChloeAmandaB: Potential Australian T20 debutant Josh Philippe today speaking about what he learned from 'superstars' AB de Villiers and…   \n",
       "\n",
       "              user                  location  \n",
       "0   SportzrideCric             Mumbai, India  \n",
       "1  Saurabh53818837                            \n",
       "2     GBAbhishek18  Thiruvananthapuram,India  \n",
       "3   CricketMorning                     India  \n",
       "4    karthikdonz10                            "
      ]
     },
     "execution_count": 23,
     "metadata": {},
     "output_type": "execute_result"
    }
   ],
   "source": [
    "pd.set_option('max_colwidth', 800)\n",
    "\n",
    "tweet_df.head()"
   ]
  },
  {
   "cell_type": "code",
   "execution_count": 24,
   "metadata": {},
   "outputs": [],
   "source": [
    "import re"
   ]
  },
  {
   "cell_type": "code",
   "execution_count": 25,
   "metadata": {},
   "outputs": [],
   "source": [
    "# Cleaning tweets\n",
    "def clean_tweets(text):\n",
    "    text = re.sub(\"RT @[\\w]*:\",\"\",text)\n",
    "    text = re.sub(\"@[\\w]*:\",\"\",text)\n",
    "    text = re.sub(\"https?://[A-Za-z0-9./]*\",\"\",text)\n",
    "    text = re.sub(\"\\n\",\"\",text)\n",
    "    return text"
   ]
  },
  {
   "cell_type": "code",
   "execution_count": 26,
   "metadata": {},
   "outputs": [],
   "source": [
    "tweet_df['text'] = tweet_df['text'].apply(lambda x: clean_tweets(x))"
   ]
  },
  {
   "cell_type": "code",
   "execution_count": 27,
   "metadata": {},
   "outputs": [
    {
     "data": {
      "text/html": [
       "<div>\n",
       "<style scoped>\n",
       "    .dataframe tbody tr th:only-of-type {\n",
       "        vertical-align: middle;\n",
       "    }\n",
       "\n",
       "    .dataframe tbody tr th {\n",
       "        vertical-align: top;\n",
       "    }\n",
       "\n",
       "    .dataframe thead th {\n",
       "        text-align: right;\n",
       "    }\n",
       "</style>\n",
       "<table border=\"1\" class=\"dataframe\">\n",
       "  <thead>\n",
       "    <tr style=\"text-align: right;\">\n",
       "      <th></th>\n",
       "      <th>geo</th>\n",
       "      <th>text</th>\n",
       "      <th>user</th>\n",
       "      <th>location</th>\n",
       "    </tr>\n",
       "  </thead>\n",
       "  <tbody>\n",
       "    <tr>\n",
       "      <td>0</td>\n",
       "      <td>None</td>\n",
       "      <td>England have Declared their 12 Man Squad for Second Test in Chennai Starting Tomorrow!IN: Broad, Moeen Ali, Foake…</td>\n",
       "      <td>SportzrideCric</td>\n",
       "      <td>Mumbai, India</td>\n",
       "    </tr>\n",
       "    <tr>\n",
       "      <td>1</td>\n",
       "      <td>None</td>\n",
       "      <td>Feel sad for @sreesanth36 I think he deserve one chance.. He should be in a list at least... It was confirm nobody…</td>\n",
       "      <td>Saurabh53818837</td>\n",
       "      <td></td>\n",
       "    </tr>\n",
       "    <tr>\n",
       "      <td>2</td>\n",
       "      <td>None</td>\n",
       "      <td>Potential Australian T20 debutant Josh Philippe today speaking about what he learned from 'superstars' AB de Villiers and…</td>\n",
       "      <td>GBAbhishek18</td>\n",
       "      <td>Thiruvananthapuram,India</td>\n",
       "    </tr>\n",
       "    <tr>\n",
       "      <td>3</td>\n",
       "      <td>None</td>\n",
       "      <td>IPL News 🚨 🚨#IPLAuction2021 #IPL2021 #ArjunTendulkar</td>\n",
       "      <td>CricketMorning</td>\n",
       "      <td>India</td>\n",
       "    </tr>\n",
       "    <tr>\n",
       "      <td>4</td>\n",
       "      <td>None</td>\n",
       "      <td>Potential Australian T20 debutant Josh Philippe today speaking about what he learned from 'superstars' AB de Villiers and…</td>\n",
       "      <td>karthikdonz10</td>\n",
       "      <td></td>\n",
       "    </tr>\n",
       "  </tbody>\n",
       "</table>\n",
       "</div>"
      ],
      "text/plain": [
       "    geo  \\\n",
       "0  None   \n",
       "1  None   \n",
       "2  None   \n",
       "3  None   \n",
       "4  None   \n",
       "\n",
       "                                                                                                                          text  \\\n",
       "0          England have Declared their 12 Man Squad for Second Test in Chennai Starting Tomorrow!IN: Broad, Moeen Ali, Foake…    \n",
       "1         Feel sad for @sreesanth36 I think he deserve one chance.. He should be in a list at least... It was confirm nobody…    \n",
       "2   Potential Australian T20 debutant Josh Philippe today speaking about what he learned from 'superstars' AB de Villiers and…   \n",
       "3                                                                        IPL News 🚨 🚨#IPLAuction2021 #IPL2021 #ArjunTendulkar    \n",
       "4   Potential Australian T20 debutant Josh Philippe today speaking about what he learned from 'superstars' AB de Villiers and…   \n",
       "\n",
       "              user                  location  \n",
       "0   SportzrideCric             Mumbai, India  \n",
       "1  Saurabh53818837                            \n",
       "2     GBAbhishek18  Thiruvananthapuram,India  \n",
       "3   CricketMorning                     India  \n",
       "4    karthikdonz10                            "
      ]
     },
     "execution_count": 27,
     "metadata": {},
     "output_type": "execute_result"
    }
   ],
   "source": [
    "tweet_df.head()"
   ]
  },
  {
   "cell_type": "code",
   "execution_count": null,
   "metadata": {},
   "outputs": [],
   "source": []
  }
 ],
 "metadata": {
  "kernelspec": {
   "display_name": "Python 3",
   "language": "python",
   "name": "python3"
  },
  "language_info": {
   "codemirror_mode": {
    "name": "ipython",
    "version": 3
   },
   "file_extension": ".py",
   "mimetype": "text/x-python",
   "name": "python",
   "nbconvert_exporter": "python",
   "pygments_lexer": "ipython3",
   "version": "3.7.4"
  }
 },
 "nbformat": 4,
 "nbformat_minor": 2
}
