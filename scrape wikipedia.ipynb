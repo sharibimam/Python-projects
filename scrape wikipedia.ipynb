{
 "cells": [
  {
   "cell_type": "code",
   "execution_count": 1,
   "metadata": {},
   "outputs": [],
   "source": [
    "import wikipedia as wiki"
   ]
  },
  {
   "cell_type": "code",
   "execution_count": 2,
   "metadata": {},
   "outputs": [
    {
     "name": "stdout",
     "output_type": "stream",
     "text": [
      "['Data science', 'Open science data', 'Data analysis', 'Data type', 'Data', 'Master in Data Science', 'Data structure', 'Committee on Data for Science and Technology', 'Big data', 'Computer science']\n"
     ]
    }
   ],
   "source": [
    "print(wiki.search(\"Data science\"))"
   ]
  },
  {
   "cell_type": "code",
   "execution_count": 3,
   "metadata": {},
   "outputs": [
    {
     "name": "stdout",
     "output_type": "stream",
     "text": [
      "None\n"
     ]
    }
   ],
   "source": [
    "print(wiki.suggest(\"Data Sci\"))"
   ]
  },
  {
   "cell_type": "code",
   "execution_count": 4,
   "metadata": {},
   "outputs": [
    {
     "name": "stdout",
     "output_type": "stream",
     "text": [
      "Data science is an inter-disciplinary field that uses scientific methods, processes, algorithms and systems to extract knowledge and insights from many structural and unstructured data. Data science is related to data mining, machine learning and big data.\n",
      "Data science is a \"concept to unify statistics, data analysis and their related methods\" in order to \"understand and analyze actual phenomena\" with data. It uses techniques and theories drawn from many fields within the context of mathematics, statistics, computer science, domain knowledge and information science. Turing award winner Jim Gray imagined data science as a \"fourth paradigm\" of science (empirical, theoretical, computational and now data-driven) and asserted that \"everything about science is changing because of the impact of information technology\" and the data deluge.\n",
      "\n",
      "\n"
     ]
    }
   ],
   "source": [
    "print(wiki.summary(\"Data Science\"))"
   ]
  },
  {
   "cell_type": "code",
   "execution_count": 7,
   "metadata": {},
   "outputs": [
    {
     "name": "stdout",
     "output_type": "stream",
     "text": [
      "आँकड़ा विज्ञान (Data Science) आँकड़ों का विश्लेषण करके उनसे जानकारी निकालने का विज्ञान है। यह कंप्यूटर विज्ञान का एक भाग है। आँकड़ा विज्ञान गणित, सांख्यिकी, सूचना सिद्धान्त, सूचना प्रौद्योगिकी आदि अनेकों क्षेत्रों के सिद्धान्तों तथा तकनीकों का प्रयोग करता है। वे विधियाँ जो विशाल आँकड़ों के लिये भी काम करती हैं वे आँकड़ा विज्ञान के क्षेत्र में विशेष महत्व रखतीं हैं। कृत्रिम बुद्धि की मशीन अधिगम (Machine Learning) नामक शाखा के विकास से इस क्षेत्र के विकास को नयी गति और महत्व मिला है।\n"
     ]
    }
   ],
   "source": [
    "wiki.set_lang(\"hi\")   # hindi\n",
    "print(wiki.summary(\"Data Science\"))"
   ]
  },
  {
   "cell_type": "code",
   "execution_count": 8,
   "metadata": {},
   "outputs": [],
   "source": [
    "wiki.set_lang(\"en\")\n",
    "p = wiki.page(\"Data Science\")"
   ]
  },
  {
   "cell_type": "code",
   "execution_count": 9,
   "metadata": {},
   "outputs": [
    {
     "name": "stdout",
     "output_type": "stream",
     "text": [
      "Data science\n"
     ]
    }
   ],
   "source": [
    "print(p.title)"
   ]
  },
  {
   "cell_type": "code",
   "execution_count": 10,
   "metadata": {},
   "outputs": [
    {
     "name": "stdout",
     "output_type": "stream",
     "text": [
      "https://en.wikipedia.org/wiki/Data_science\n"
     ]
    }
   ],
   "source": [
    "print(p.url)"
   ]
  },
  {
   "cell_type": "code",
   "execution_count": 11,
   "metadata": {},
   "outputs": [
    {
     "name": "stdout",
     "output_type": "stream",
     "text": [
      "Data science is an inter-disciplinary field that uses scientific methods, processes, algorithms and systems to extract knowledge and insights from many structural and unstructured data. Data science is related to data mining, machine learning and big data.\n",
      "Data science is a \"concept to unify statistics, data analysis and their related methods\" in order to \"understand and analyze actual phenomena\" with data. It uses techniques and theories drawn from many fields within the context of mathematics, statistics, computer science, domain knowledge and information science. Turing award winner Jim Gray imagined data science as a \"fourth paradigm\" of science (empirical, theoretical, computational and now data-driven) and asserted that \"everything about science is changing because of the impact of information technology\" and the data deluge.\n",
      "\n",
      "\n",
      "== Foundations ==\n",
      "Data science is an interdisciplinary field focused on extracting knowledge from data sets, which are typically large (see big data). The field encompasses analysis, preparing data for analysis, and presenting findings to inform high-level decisions in an organization. As such, it incorporates skills from computer science, mathematics, statistics, information visualization, graphic design, complex systems, communication and business. Statistician Nathan Yau, drawing on Ben Fry, also links data science to human-computer interaction: users should be able to intuitively control and explore data. In 2015, the American Statistical Association identified database management, statistics and machine learning, and distributed and parallel systems as the three emerging foundational professional communities.\n",
      "\n",
      "\n",
      "=== Relationship to statistics ===\n",
      "Many statisticians, including Nate Silver, have argued that data science is not a new field, but rather another name for statistics. Others argue that data science is distinct from statistics because it focuses on problems and techniques unique to digital data. Vasant Dhar writes that statistics emphasizes quantitative data and description. In contrast, data science deals with quantitative and qualitative data (e.g. images) and emphasizes prediction and action. Andrew Gelman of Columbia University and data scientist Vincent Granville have described statistics as a nonessential part of data science.\n",
      "Stanford professor David Donoho writes that data science is not distinguished from statistics by the size of datasets or use of computing, and that many graduate programs misleadingly advertise their analytics and statistics training as the essence of a data science program. He describes data science as an applied field growing out of traditional statistics. \n",
      "In summary, data science can be therefore described as an applied branch of statistics.\n",
      "\n",
      "\n",
      "== Etymology ==\n",
      "\n",
      "\n",
      "=== Early usage ===\n",
      "In 1962, John Tukey described a field he called “data analysis,” which resembles modern data science. In 1985, in a lecture given to the Chinese Academy of Sciences in Beijing, C.F. Jeff Wu used the term Data Science for the first time as an alternative name for statistics. Later, attendees at a 1992 statistics symposium at the University of Montpellier II acknowledged the emergence of a new discipline focused on data of various origins and forms, combining established concepts and principles of statistics and data analysis with computing.The term “data science” has been traced back to 1974, when Peter Naur proposed it as an alternative name for computer science. In 1996, the International Federation of Classification Societies became the first conference to specifically feature data science as a topic. However, the definition was still in flux. After the 1985 lecture in the Chinese Academy of Sciences in Beijing, in 1997 C.F. Jeff Wu again suggested that statistics should be renamed data science. He reasoned that a new name would help statistics shed inaccurate stereotypes, such as being synonymous with accounting, or limited to describing data. In 1998, Chikio Hayashi argued for data science as a new, interdisciplinary concept, with three aspects: data design, collection, and analysis.During the 1990s, popular terms for the process of finding patterns in datasets (which were increasingly large) included “knowledge discovery” and “data mining”.\n",
      "\n",
      "\n",
      "=== Modern usage ===\n",
      "The modern conception of data science as an independent discipline is sometimes attributed to William S. Cleveland. In a 2001 paper, he advocated an expansion of statistics beyond theory into technical areas; because this would significantly change the field, it warranted a new name. \"Data science\" became more widely used in the next few years: in 2002, the Committee on Data for Science and Technology launched Data Science Journal. In 2003, Columbia University launched The Journal of Data Science. In 2014, the American Statistical Association's Section on Statistical Learning and Data Mining changed its name to the Section on Statistical Learning and Data Science, reflecting the ascendant popularity of data science.The professional title of “data scientist” has been attributed to DJ Patil and Jeff Hammerbacher in 2008. Though it was used by the National Science Board in their 2005 report, \"Long-Lived Digital Data Collections: Enabling Research and Education in the 21st Century,\" it referred broadly to any key role in managing a digital data collection.There is still no consensus on the definition of data science and it is considered by some to be a buzzword.\n",
      "\n",
      "\n",
      "== Impacts of data science ==\n",
      "Big data is very quickly becoming a vital tool for businesses and companies of all sizes. The availability and interpretation of big data has altered the business models of old industries and enabled the creation of new ones. Data-driven businesses are worth $1.2 trillion collectively in 2020, an increase from $333 billion in the year 2015. Data scientists are responsible for breaking down big data into usable information and creating software and algorithms that help companies and organizations determine optimal operations. As big data continues to have a major impact on the world, data science does as well due to the close relationship between the two.\n",
      "\n",
      "\n",
      "== Technologies and techniques ==\n",
      "There are a variety of different technologies and techniques that are used for data science which depend on the application. More recently, full-featured, end-to-end platforms have been developed and heavily used for data science and machine learning.\n",
      "\n",
      "\n",
      "=== Techniques ===\n",
      "Linear Regression\n",
      "Logistic Regression\n",
      "Decision tree is used as prediction models for classification and data fitting. The decision tree structure can be used to generate rules able to classify or predict target/class/label variable based on the observation attributes.\n",
      "Support Vector Machine (SVM)\n",
      "Clustering is a technique used to group data together.\n",
      "Dimensionality reduction is used to reduce the complexity of data computation so that it can be performed more quickly.\n",
      "Machine learning is a technique used to perform tasks by inferencing patterns from data.\n",
      "\n",
      "\n",
      "=== Languages ===\n",
      "Python is a programming language with simple syntax that is commonly used for data science. There are a number of python libraries that are used in data science including numpy, pandas, Matplotlib and scipy.\n",
      "R is a programming language that was designed for statisticians and data mining and is optimized for computation.\n",
      "Julia is a high-level, high-performance, dynamic programming language well-suited for numerical analysis and computational science.\n",
      "\n",
      "\n",
      "=== Frameworks ===\n",
      "TensorFlow is a framework for creating machine learning models developed by Google.\n",
      "Pytorch is another framework for machine learning developed by Facebook.\n",
      "Jupyter Notebook is an interactive web interface for Python that allows faster experimentation.\n",
      "Apache Hadoop is a software framework that is used to process data over large distributed systems.\n",
      "\n",
      "\n",
      "=== Visualization Tools ===\n",
      "Plotly provides a rich set of interactive scientific graphing libraries.\n",
      "Tableau makes a variety of software that is used for data visualization.\n",
      "PowerBI is a business analytics service by Microsoft.\n",
      "Qlik produces software such as QlikView and Qlik Sense used for data visualization and business intelligence.\n",
      "AnyChart provides JavaScript libraries and other tools for data visualization in charts and dashboards.\n",
      "Google Charts is a JavaScript-based web service made and supported by Google for creating graphical charts.\n",
      "Sisense provides a front-end for building data visualizations including dashboards and reports.\n",
      "Webix is a UI toolkit that includes dedicated tools for information visualization.\n",
      "\n",
      "\n",
      "=== Platforms ===\n",
      "RapidMiner is a data science software platform developed by the company of the same name.\n",
      "Dataiku is a collaborative data science software marketed for big data.\n",
      "Anaconda provides a comprehensive free and open-source distribution of the Python and R programming languages.\n",
      "MATLAB is a computing environment heavily used in industry and academia.\n",
      "Databricks is a cloud platform for massive scale data engineering and collaborative data science.\n",
      "IBM Watson Studio is a cloud platform that offers a comprehensive suite of collaborative data science tools for infusing AI into business applications.\n",
      "\n",
      "\n",
      "== References ==\n"
     ]
    }
   ],
   "source": [
    "print(p.content)"
   ]
  },
  {
   "cell_type": "code",
   "execution_count": 13,
   "metadata": {},
   "outputs": [
    {
     "name": "stdout",
     "output_type": "stream",
     "text": [
      "['American Statistical Association', 'Anaconda (Python distribution)', 'Andrew Gelman', 'Anomaly detection', 'AnyChart', 'Apache Hadoop', 'Artificial neural network', 'Association rule learning', 'Astronomical survey', 'Autoencoder', 'Automated machine learning', 'BIRCH', 'Basic research', 'Bayesian network', 'Ben Fry', 'Bias–variance tradeoff', 'Big data', 'Boosting (machine learning)', 'Bootstrap aggregating', 'C.F. Jeff Wu', 'CURE data clustering algorithm', 'Canonical correlation', 'Cluster analysis', 'Cognitive computing', 'Columbia University', 'Comet NEOWISE', 'Committee on Data for Science and Technology', 'Communication', 'Complex systems', 'Computation', 'Computational learning theory', 'Computational science', 'Computer science', 'Conditional random field', 'Conference on Neural Information Processing Systems', 'Convolutional neural network', 'DBSCAN', 'DJ Patil', 'Data (computing)', 'Data Science', 'Data analysis', 'Data archaeology', 'Data augmentation', 'Data cleansing', 'Data collection', 'Data compression', 'Data corruption', 'Data curation', 'Data degradation', 'Data editing', 'Data extraction', 'Data farming', 'Data format management', 'Data fusion', 'Data integration', 'Data integrity', 'Data library', 'Data loading', 'Data loss', 'Data management', 'Data migration', 'Data mining', 'Data pre-processing', 'Data preservation', 'Data quality', 'Data recovery', 'Data reduction', 'Data retention', 'Data scraping', 'Data scrubbing', 'Data security', 'Data steward', 'Data storage', 'Data transformation', 'Data validation', 'Data warehouse', 'Data wrangling', 'Database', 'Databricks', 'Dataiku', 'David Donoho', 'Decision tree', 'Decision tree learning', 'DeepDream', 'Deep learning', 'Dimensionality reduction', 'Distributed computing', 'Doi (identifier)', 'Domain knowledge', 'Echo state network', 'Electrochemical RAM', 'Empirical research', 'Empirical risk minimization', 'Ensemble learning', 'Expectation–maximization algorithm', 'Extract, transform, load', 'Factor analysis', 'Feature engineering', 'Feature learning', 'Gated recurrent unit', 'Generative adversarial network', 'Glossary of artificial intelligence', 'Google Charts', 'Grammar induction', 'Graphical model', 'Hidden Markov model', 'Hierarchical clustering', 'Human–computer interaction', 'IBM Watson Studio', 'ISBN (identifier)', 'ISSN (identifier)', 'Independent component analysis', 'Information explosion', 'Information privacy', 'Information science', 'Information technology', 'Information visualization', 'Inter-disciplinary', 'International Conference on Machine Learning', 'Jeff Hammerbacher', 'Jeffrey T. Leek', 'Jim Gray (computer scientist)', 'John Tukey', 'Journal of Machine Learning Research', 'Julia (programming language)', 'Jupyter Notebook', 'K-means clustering', 'K-nearest neighbors algorithm', 'K-nearest neighbors classification', 'Knowledge', 'Learning to rank', 'Linear discriminant analysis', 'Linear regression', 'List of datasets for machine-learning research', 'Local outlier factor', 'Logistic regression', 'Long short-term memory', 'MATLAB', 'Machine Learning (journal)', 'Machine learning', 'Mathematics', 'Mean-shift', 'Memtransistor', 'Microsoft Power BI', 'Montpellier 2 University', 'Multilayer perceptron', 'Naive Bayes classifier', 'Nate Silver', 'Nathan Yau', 'National Science Board', 'Non-negative matrix factorization', 'OCLC (identifier)', 'OPTICS algorithm', 'Occam learning', 'Online machine learning', 'Outline of machine learning', 'PMID (identifier)', 'Perceptron', 'Peter Naur', 'Plotly', 'Principal component analysis', 'Probably approximately correct learning', 'Proper generalized decomposition', 'Python (programming language)', 'Pytorch', 'Q-learning', 'Qlik', 'R (programming language)', 'Random forest', 'RapidMiner', 'Recurrent neural network', 'Regression analysis', 'Reinforcement learning', 'Relevance vector machine', 'Restricted Boltzmann machine', 'S2CID (identifier)', 'Self-organizing map', 'Semi-supervised learning', 'Sisense', 'Space telescope', 'Spiking neural network', 'State–action–reward–state–action', 'Statistical classification', 'Statistical learning theory', 'Statistics', 'Structured prediction', 'Supervised learning', 'Support-vector machine', 'Support vector machine', 'T-distributed stochastic neighbor embedding', 'Tableau Software', 'Temporal difference learning', 'TensorFlow', 'Transformer (machine learning model)', 'Turing award', 'U-Net', 'Unstructured data', 'Unsupervised learning', 'Vapnik–Chervonenkis theory', 'Vasant Dhar', 'Webix', 'Wide-field Infrared Survey Explorer', 'William S. Cleveland']\n"
     ]
    }
   ],
   "source": [
    "print(p.links)"
   ]
  },
  {
   "cell_type": "code",
   "execution_count": null,
   "metadata": {},
   "outputs": [],
   "source": []
  }
 ],
 "metadata": {
  "kernelspec": {
   "display_name": "Python 3",
   "language": "python",
   "name": "python3"
  },
  "language_info": {
   "codemirror_mode": {
    "name": "ipython",
    "version": 3
   },
   "file_extension": ".py",
   "mimetype": "text/x-python",
   "name": "python",
   "nbconvert_exporter": "python",
   "pygments_lexer": "ipython3",
   "version": "3.7.4"
  }
 },
 "nbformat": 4,
 "nbformat_minor": 2
}
